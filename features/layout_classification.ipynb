{
  "cells": [
    {
      "cell_type": "code",
      "execution_count": null,
      "metadata": {
        "id": "bYYS_gs3yekd"
      },
      "outputs": [],
      "source": [
        "# 1. 인증\n",
        "from google.colab import auth\n",
        "auth.authenticate_user()"
      ]
    },
    {
      "cell_type": "code",
      "execution_count": null,
      "metadata": {
        "id": "ZB72jBM2yg1m"
      },
      "outputs": [],
      "source": [
        "# 2. 라이브러리 임포트\n",
        "from google.cloud import storage\n",
        "from transformers import SwinForImageClassification, AutoImageProcessor\n",
        "from torchvision import transforms\n",
        "from torch.utils.data import Dataset, DataLoader\n",
        "from PIL import Image, ImageOps\n",
        "import requests\n",
        "import pandas as pd\n",
        "import torch\n",
        "import os\n",
        "from tqdm import tqdm"
      ]
    },
    {
      "cell_type": "code",
      "execution_count": null,
      "metadata": {
        "id": "YlM85yqHyiJA"
      },
      "outputs": [],
      "source": [
        "# 3. GCS 설정\n",
        "project_id = \"valid-might-460212-k2\"\n",
        "bucket_name = \"de-project2-bucket-1\""
      ]
    },
    {
      "cell_type": "code",
      "execution_count": null,
      "metadata": {
        "id": "VNQssoUpyjar"
      },
      "outputs": [],
      "source": [
        "# 경로 설정\n",
        "csv_gcs_path = \"kyobo/csv/combined/after_preprocessing_novel.csv\"\n",
        "model_gcs_dir = \"models/swin-tiny-novel/checkpoint-72\"\n",
        "output_csv_local = \"/content/novel_image_classification.csv\"\n",
        "output_csv_gcs_path = \"kyobo/csv/combined/novel-image_classification.csv\"\n",
        "\n",
        "client = storage.Client(project=project_id)\n",
        "bucket = client.bucket(bucket_name)"
      ]
    },
    {
      "cell_type": "code",
      "execution_count": null,
      "metadata": {
        "colab": {
          "base_uri": "https://localhost:8080/"
        },
        "id": "KJPXRE0Kykxq",
        "outputId": "1c3d72b1-9100-44c2-8bdf-fbda23c92409"
      },
      "outputs": [
        {
          "name": "stdout",
          "output_type": "stream",
          "text": [
            "✅ CSV 다운로드 완료\n"
          ]
        }
      ],
      "source": [
        "# 4. CSV 다운로드\n",
        "local_csv_path = \"/content/after_preprocessing_novel.csv\"\n",
        "bucket.blob(csv_gcs_path).download_to_filename(local_csv_path)\n",
        "print(\"✅ CSV 다운로드 완료\")"
      ]
    },
    {
      "cell_type": "code",
      "execution_count": null,
      "metadata": {
        "id": "2yJdwL8NyyAB"
      },
      "outputs": [],
      "source": [
        "# 5. 모델 다운로드 및 로딩\n",
        "local_model_path = \"/content/swin-tiny-output/checkpoint-72\"\n",
        "os.makedirs(local_model_path, exist_ok=True)"
      ]
    },
    {
      "cell_type": "code",
      "execution_count": null,
      "metadata": {
        "colab": {
          "base_uri": "https://localhost:8080/"
        },
        "id": "sSrnH0bvy29e",
        "outputId": "8f0c8c11-1455-469c-8bb0-6706e5d05a84"
      },
      "outputs": [
        {
          "name": "stdout",
          "output_type": "stream",
          "text": [
            "📦 모델 파일 다운로드: config.json\n",
            "📦 모델 파일 다운로드: model.safetensors\n",
            "📦 모델 파일 다운로드: optimizer.pt\n",
            "📦 모델 파일 다운로드: rng_state.pth\n",
            "📦 모델 파일 다운로드: scaler.pt\n",
            "📦 모델 파일 다운로드: scheduler.pt\n",
            "📦 모델 파일 다운로드: trainer_state.json\n",
            "📦 모델 파일 다운로드: training_args.bin\n"
          ]
        }
      ],
      "source": [
        "# 모델 디렉토리 전체 다운로드\n",
        "for blob in bucket.list_blobs(prefix=model_gcs_dir):\n",
        "    if blob.name.endswith(\"/\"): continue\n",
        "    rel_path = os.path.relpath(blob.name, model_gcs_dir)\n",
        "    dest_path = os.path.join(local_model_path, rel_path)\n",
        "    os.makedirs(os.path.dirname(dest_path), exist_ok=True)\n",
        "    blob.download_to_filename(dest_path)\n",
        "    print(f\"📦 모델 파일 다운로드: {rel_path}\")"
      ]
    },
    {
      "cell_type": "code",
      "execution_count": null,
      "metadata": {
        "colab": {
          "base_uri": "https://localhost:8080/",
          "height": 194,
          "referenced_widgets": [
            "7b325fb6dbff4be395925b42b55f1126",
            "43cda7f4a150410eb82fd13f2a4b27c8",
            "6d1ecdce6d784ed5b5b3395a9c21a5b3",
            "71f4427a90fe4c169ffd3569e6cd6b99",
            "9f2dd25c6780483b859f3b17c91f3b73",
            "5ca9a51efae7416b860b3d4046e56185",
            "d8556f4159ed47c9b777c1c2668d36e3",
            "61f8cb82ff3c428abd4857d33374d885",
            "778eb20659484b11aef46194bb7938ed",
            "670e0505a3574d5892d319cc8e90bbc7",
            "f90963bc628642aaacda9cab026d28e9"
          ]
        },
        "id": "TWvz-lsw1nuQ",
        "outputId": "9d5ff022-75b3-4df3-85cc-1d35dc60884f"
      },
      "outputs": [
        {
          "name": "stderr",
          "output_type": "stream",
          "text": [
            "/usr/local/lib/python3.11/dist-packages/huggingface_hub/utils/_auth.py:94: UserWarning: \n",
            "The secret `HF_TOKEN` does not exist in your Colab secrets.\n",
            "To authenticate with the Hugging Face Hub, create a token in your settings tab (https://huggingface.co/settings/tokens), set it as secret in your Google Colab and restart your session.\n",
            "You will be able to reuse this secret in all of your notebooks.\n",
            "Please note that authentication is recommended but still optional to access public models or datasets.\n",
            "  warnings.warn(\n"
          ]
        },
        {
          "data": {
            "application/vnd.jupyter.widget-view+json": {
              "model_id": "7b325fb6dbff4be395925b42b55f1126",
              "version_major": 2,
              "version_minor": 0
            },
            "text/plain": [
              "preprocessor_config.json:   0%|          | 0.00/255 [00:00<?, ?B/s]"
            ]
          },
          "metadata": {},
          "output_type": "display_data"
        },
        {
          "name": "stderr",
          "output_type": "stream",
          "text": [
            "Using a slow image processor as `use_fast` is unset and a slow processor was saved with this model. `use_fast=True` will be the default behavior in v4.52, even if the model was saved with a slow processor. This will result in minor differences in outputs. You'll still be able to use a slow processor with `use_fast=False`.\n"
          ]
        }
      ],
      "source": [
        "from transformers import AutoImageProcessor\n",
        "processor = AutoImageProcessor.from_pretrained(\"microsoft/swin-tiny-patch4-window7-224\")"
      ]
    },
    {
      "cell_type": "code",
      "execution_count": null,
      "metadata": {
        "id": "WU-YGiBfy3n0"
      },
      "outputs": [],
      "source": [
        "# 모델 로드\n",
        "model = SwinForImageClassification.from_pretrained(local_model_path)\n",
        "model.eval().to(\"cuda\" if torch.cuda.is_available() else \"cpu\")\n",
        "id2label = model.config.id2label"
      ]
    },
    {
      "cell_type": "code",
      "execution_count": null,
      "metadata": {
        "id": "yFs9DAU8y5vZ"
      },
      "outputs": [],
      "source": [
        "# 6. 전처리 및 데이터셋 정의\n",
        "class PadToSquare:\n",
        "    def __init__(self, fill_color=(255, 255, 255)):\n",
        "        self.fill_color = fill_color\n",
        "    def __call__(self, image):\n",
        "        w, h = image.size\n",
        "        max_side = max(w, h)\n",
        "        padding = (\n",
        "            (max_side - w) // 2, (max_side - h) // 2,\n",
        "            (max_side - w) - (max_side - w) // 2,\n",
        "            (max_side - h) - (max_side - h) // 2\n",
        "        )\n",
        "        return ImageOps.expand(image, padding, fill=self.fill_color)"
      ]
    },
    {
      "cell_type": "code",
      "execution_count": null,
      "metadata": {
        "id": "rTa_47LGy8LX"
      },
      "outputs": [],
      "source": [
        "transform = transforms.Compose([\n",
        "    PadToSquare(),\n",
        "    transforms.Resize((224, 224)),\n",
        "    transforms.ToTensor(),\n",
        "    transforms.Normalize(mean=processor.image_mean, std=processor.image_std),\n",
        "])"
      ]
    },
    {
      "cell_type": "code",
      "execution_count": null,
      "metadata": {
        "id": "N61usCcBy9wC"
      },
      "outputs": [],
      "source": [
        "class InferenceDataset(Dataset):\n",
        "    def __init__(self, dataframe, transform):\n",
        "        self.df = dataframe.reset_index(drop=True)\n",
        "        self.transform = transform\n",
        "    def __len__(self):\n",
        "        return len(self.df)\n",
        "    def __getitem__(self, idx):\n",
        "        url = self.df.loc[idx, 'image_url']\n",
        "        product_id = self.df.loc[idx, 'product_id']\n",
        "        try:\n",
        "            image = Image.open(requests.get(url, stream=True).raw).convert(\"RGB\")\n",
        "            image = self.transform(image)\n",
        "        except:\n",
        "            print(f\"이미지 불러오기 실패: {product_id}\")\n",
        "            image = torch.zeros(3, 224, 224)\n",
        "        return {'pixel_values': image, 'product_id': product_id}"
      ]
    },
    {
      "cell_type": "code",
      "execution_count": null,
      "metadata": {
        "colab": {
          "base_uri": "https://localhost:8080/"
        },
        "id": "EHrRu5LvzAIK",
        "outputId": "a4355e66-2d17-4ab8-d8c8-a7a455039453"
      },
      "outputs": [
        {
          "name": "stderr",
          "output_type": "stream",
          "text": [
            "100%|██████████| 63326/63326 [2:47:19<00:00,  6.31it/s]\n"
          ]
        }
      ],
      "source": [
        "# 7. 추론 수행\n",
        "df = pd.read_csv(local_csv_path)\n",
        "dataset = InferenceDataset(df, transform)\n",
        "dataloader = DataLoader(dataset, batch_size=1)\n",
        "\n",
        "device = \"cuda\" if torch.cuda.is_available() else \"cpu\"\n",
        "results = []\n",
        "\n",
        "with torch.no_grad():\n",
        "    for batch in tqdm(dataloader):\n",
        "        images = batch['pixel_values'].to(device)\n",
        "        outputs = model(pixel_values=images)\n",
        "        preds = torch.argmax(outputs.logits, dim=1).cpu().numpy()\n",
        "        labels = [id2label[p] for p in preds]  # ✅ 수정됨\n",
        "        results.extend(zip(batch['product_id'], labels))"
      ]
    },
    {
      "cell_type": "code",
      "execution_count": null,
      "metadata": {
        "colab": {
          "base_uri": "https://localhost:8080/"
        },
        "id": "lrLp5WawzBrT",
        "outputId": "f3a64856-aef8-4f05-a152-24a25a0a89c2"
      },
      "outputs": [
        {
          "name": "stdout",
          "output_type": "stream",
          "text": [
            "✅ 추론 결과 저장 완료: /content/image_classification1.csv\n"
          ]
        }
      ],
      "source": [
        "# 8. 결과 저장\n",
        "output_df = pd.DataFrame(results, columns=[\"product_id\", \"design_label\"])\n",
        "output_df.to_csv(output_csv_local, index=False)\n",
        "print(\"✅ 추론 결과 저장 완료:\", output_csv_local)"
      ]
    },
    {
      "cell_type": "code",
      "execution_count": null,
      "metadata": {
        "colab": {
          "base_uri": "https://localhost:8080/"
        },
        "id": "ZhlZwnpEzEcx",
        "outputId": "a59490a5-7d06-4ebe-ed4c-f5d23e62e143"
      },
      "outputs": [
        {
          "name": "stdout",
          "output_type": "stream",
          "text": [
            "✅ 결과 CSV 업로드 완료 → gs://de-project2-bucket-1/kyobo/csv/combined/image_classification1.csv\n"
          ]
        }
      ],
      "source": [
        "# 9. GCS로 결과 업로드\n",
        "bucket.blob(output_csv_gcs_path).upload_from_filename(output_csv_local)\n",
        "print(f\"✅ 결과 CSV 업로드 완료 → gs://{bucket_name}/{output_csv_gcs_path}\")"
      ]
    }
  ],
  "metadata": {
    "accelerator": "GPU",
    "colab": {
      "gpuType": "A100",
      "machine_shape": "hm",
      "provenance": []
    },
    "kernelspec": {
      "display_name": "Python 3",
      "name": "python3"
    },
    "language_info": {
      "name": "python"
    },
    "widgets": {
      "application/vnd.jupyter.widget-state+json": {
        "43cda7f4a150410eb82fd13f2a4b27c8": {
          "model_module": "@jupyter-widgets/controls",
          "model_module_version": "1.5.0",
          "model_name": "HTMLModel",
          "state": {
            "_dom_classes": [],
            "_model_module": "@jupyter-widgets/controls",
            "_model_module_version": "1.5.0",
            "_model_name": "HTMLModel",
            "_view_count": null,
            "_view_module": "@jupyter-widgets/controls",
            "_view_module_version": "1.5.0",
            "_view_name": "HTMLView",
            "description": "",
            "description_tooltip": null,
            "layout": "IPY_MODEL_5ca9a51efae7416b860b3d4046e56185",
            "placeholder": "​",
            "style": "IPY_MODEL_d8556f4159ed47c9b777c1c2668d36e3",
            "value": "preprocessor_config.json: 100%"
          }
        },
        "5ca9a51efae7416b860b3d4046e56185": {
          "model_module": "@jupyter-widgets/base",
          "model_module_version": "1.2.0",
          "model_name": "LayoutModel",
          "state": {
            "_model_module": "@jupyter-widgets/base",
            "_model_module_version": "1.2.0",
            "_model_name": "LayoutModel",
            "_view_count": null,
            "_view_module": "@jupyter-widgets/base",
            "_view_module_version": "1.2.0",
            "_view_name": "LayoutView",
            "align_content": null,
            "align_items": null,
            "align_self": null,
            "border": null,
            "bottom": null,
            "display": null,
            "flex": null,
            "flex_flow": null,
            "grid_area": null,
            "grid_auto_columns": null,
            "grid_auto_flow": null,
            "grid_auto_rows": null,
            "grid_column": null,
            "grid_gap": null,
            "grid_row": null,
            "grid_template_areas": null,
            "grid_template_columns": null,
            "grid_template_rows": null,
            "height": null,
            "justify_content": null,
            "justify_items": null,
            "left": null,
            "margin": null,
            "max_height": null,
            "max_width": null,
            "min_height": null,
            "min_width": null,
            "object_fit": null,
            "object_position": null,
            "order": null,
            "overflow": null,
            "overflow_x": null,
            "overflow_y": null,
            "padding": null,
            "right": null,
            "top": null,
            "visibility": null,
            "width": null
          }
        },
        "61f8cb82ff3c428abd4857d33374d885": {
          "model_module": "@jupyter-widgets/base",
          "model_module_version": "1.2.0",
          "model_name": "LayoutModel",
          "state": {
            "_model_module": "@jupyter-widgets/base",
            "_model_module_version": "1.2.0",
            "_model_name": "LayoutModel",
            "_view_count": null,
            "_view_module": "@jupyter-widgets/base",
            "_view_module_version": "1.2.0",
            "_view_name": "LayoutView",
            "align_content": null,
            "align_items": null,
            "align_self": null,
            "border": null,
            "bottom": null,
            "display": null,
            "flex": null,
            "flex_flow": null,
            "grid_area": null,
            "grid_auto_columns": null,
            "grid_auto_flow": null,
            "grid_auto_rows": null,
            "grid_column": null,
            "grid_gap": null,
            "grid_row": null,
            "grid_template_areas": null,
            "grid_template_columns": null,
            "grid_template_rows": null,
            "height": null,
            "justify_content": null,
            "justify_items": null,
            "left": null,
            "margin": null,
            "max_height": null,
            "max_width": null,
            "min_height": null,
            "min_width": null,
            "object_fit": null,
            "object_position": null,
            "order": null,
            "overflow": null,
            "overflow_x": null,
            "overflow_y": null,
            "padding": null,
            "right": null,
            "top": null,
            "visibility": null,
            "width": null
          }
        },
        "670e0505a3574d5892d319cc8e90bbc7": {
          "model_module": "@jupyter-widgets/base",
          "model_module_version": "1.2.0",
          "model_name": "LayoutModel",
          "state": {
            "_model_module": "@jupyter-widgets/base",
            "_model_module_version": "1.2.0",
            "_model_name": "LayoutModel",
            "_view_count": null,
            "_view_module": "@jupyter-widgets/base",
            "_view_module_version": "1.2.0",
            "_view_name": "LayoutView",
            "align_content": null,
            "align_items": null,
            "align_self": null,
            "border": null,
            "bottom": null,
            "display": null,
            "flex": null,
            "flex_flow": null,
            "grid_area": null,
            "grid_auto_columns": null,
            "grid_auto_flow": null,
            "grid_auto_rows": null,
            "grid_column": null,
            "grid_gap": null,
            "grid_row": null,
            "grid_template_areas": null,
            "grid_template_columns": null,
            "grid_template_rows": null,
            "height": null,
            "justify_content": null,
            "justify_items": null,
            "left": null,
            "margin": null,
            "max_height": null,
            "max_width": null,
            "min_height": null,
            "min_width": null,
            "object_fit": null,
            "object_position": null,
            "order": null,
            "overflow": null,
            "overflow_x": null,
            "overflow_y": null,
            "padding": null,
            "right": null,
            "top": null,
            "visibility": null,
            "width": null
          }
        },
        "6d1ecdce6d784ed5b5b3395a9c21a5b3": {
          "model_module": "@jupyter-widgets/controls",
          "model_module_version": "1.5.0",
          "model_name": "FloatProgressModel",
          "state": {
            "_dom_classes": [],
            "_model_module": "@jupyter-widgets/controls",
            "_model_module_version": "1.5.0",
            "_model_name": "FloatProgressModel",
            "_view_count": null,
            "_view_module": "@jupyter-widgets/controls",
            "_view_module_version": "1.5.0",
            "_view_name": "ProgressView",
            "bar_style": "success",
            "description": "",
            "description_tooltip": null,
            "layout": "IPY_MODEL_61f8cb82ff3c428abd4857d33374d885",
            "max": 255,
            "min": 0,
            "orientation": "horizontal",
            "style": "IPY_MODEL_778eb20659484b11aef46194bb7938ed",
            "value": 255
          }
        },
        "71f4427a90fe4c169ffd3569e6cd6b99": {
          "model_module": "@jupyter-widgets/controls",
          "model_module_version": "1.5.0",
          "model_name": "HTMLModel",
          "state": {
            "_dom_classes": [],
            "_model_module": "@jupyter-widgets/controls",
            "_model_module_version": "1.5.0",
            "_model_name": "HTMLModel",
            "_view_count": null,
            "_view_module": "@jupyter-widgets/controls",
            "_view_module_version": "1.5.0",
            "_view_name": "HTMLView",
            "description": "",
            "description_tooltip": null,
            "layout": "IPY_MODEL_670e0505a3574d5892d319cc8e90bbc7",
            "placeholder": "​",
            "style": "IPY_MODEL_f90963bc628642aaacda9cab026d28e9",
            "value": " 255/255 [00:00&lt;00:00, 31.6kB/s]"
          }
        },
        "778eb20659484b11aef46194bb7938ed": {
          "model_module": "@jupyter-widgets/controls",
          "model_module_version": "1.5.0",
          "model_name": "ProgressStyleModel",
          "state": {
            "_model_module": "@jupyter-widgets/controls",
            "_model_module_version": "1.5.0",
            "_model_name": "ProgressStyleModel",
            "_view_count": null,
            "_view_module": "@jupyter-widgets/base",
            "_view_module_version": "1.2.0",
            "_view_name": "StyleView",
            "bar_color": null,
            "description_width": ""
          }
        },
        "7b325fb6dbff4be395925b42b55f1126": {
          "model_module": "@jupyter-widgets/controls",
          "model_module_version": "1.5.0",
          "model_name": "HBoxModel",
          "state": {
            "_dom_classes": [],
            "_model_module": "@jupyter-widgets/controls",
            "_model_module_version": "1.5.0",
            "_model_name": "HBoxModel",
            "_view_count": null,
            "_view_module": "@jupyter-widgets/controls",
            "_view_module_version": "1.5.0",
            "_view_name": "HBoxView",
            "box_style": "",
            "children": [
              "IPY_MODEL_43cda7f4a150410eb82fd13f2a4b27c8",
              "IPY_MODEL_6d1ecdce6d784ed5b5b3395a9c21a5b3",
              "IPY_MODEL_71f4427a90fe4c169ffd3569e6cd6b99"
            ],
            "layout": "IPY_MODEL_9f2dd25c6780483b859f3b17c91f3b73"
          }
        },
        "9f2dd25c6780483b859f3b17c91f3b73": {
          "model_module": "@jupyter-widgets/base",
          "model_module_version": "1.2.0",
          "model_name": "LayoutModel",
          "state": {
            "_model_module": "@jupyter-widgets/base",
            "_model_module_version": "1.2.0",
            "_model_name": "LayoutModel",
            "_view_count": null,
            "_view_module": "@jupyter-widgets/base",
            "_view_module_version": "1.2.0",
            "_view_name": "LayoutView",
            "align_content": null,
            "align_items": null,
            "align_self": null,
            "border": null,
            "bottom": null,
            "display": null,
            "flex": null,
            "flex_flow": null,
            "grid_area": null,
            "grid_auto_columns": null,
            "grid_auto_flow": null,
            "grid_auto_rows": null,
            "grid_column": null,
            "grid_gap": null,
            "grid_row": null,
            "grid_template_areas": null,
            "grid_template_columns": null,
            "grid_template_rows": null,
            "height": null,
            "justify_content": null,
            "justify_items": null,
            "left": null,
            "margin": null,
            "max_height": null,
            "max_width": null,
            "min_height": null,
            "min_width": null,
            "object_fit": null,
            "object_position": null,
            "order": null,
            "overflow": null,
            "overflow_x": null,
            "overflow_y": null,
            "padding": null,
            "right": null,
            "top": null,
            "visibility": null,
            "width": null
          }
        },
        "d8556f4159ed47c9b777c1c2668d36e3": {
          "model_module": "@jupyter-widgets/controls",
          "model_module_version": "1.5.0",
          "model_name": "DescriptionStyleModel",
          "state": {
            "_model_module": "@jupyter-widgets/controls",
            "_model_module_version": "1.5.0",
            "_model_name": "DescriptionStyleModel",
            "_view_count": null,
            "_view_module": "@jupyter-widgets/base",
            "_view_module_version": "1.2.0",
            "_view_name": "StyleView",
            "description_width": ""
          }
        },
        "f90963bc628642aaacda9cab026d28e9": {
          "model_module": "@jupyter-widgets/controls",
          "model_module_version": "1.5.0",
          "model_name": "DescriptionStyleModel",
          "state": {
            "_model_module": "@jupyter-widgets/controls",
            "_model_module_version": "1.5.0",
            "_model_name": "DescriptionStyleModel",
            "_view_count": null,
            "_view_module": "@jupyter-widgets/base",
            "_view_module_version": "1.2.0",
            "_view_name": "StyleView",
            "description_width": ""
          }
        }
      }
    }
  },
  "nbformat": 4,
  "nbformat_minor": 0
}
