{
 "nbformat": 4,
 "nbformat_minor": 0,
 "metadata": {
  "colab": {
   "provenance": [],
   "machine_shape": "hm",
   "gpuType": "A100",
   "authorship_tag": "ABX9TyNP0kdVF6kyWccuBjzCbyu1"
  },
  "kernelspec": {
   "name": "python3",
   "display_name": "Python 3"
  },
  "language_info": {
   "name": "python"
  },
  "widgets": {
   "application/vnd.jupyter.widget-state+json": {
    "2181765e422b4be4b702f392a806a097": {
     "model_module": "@jupyter-widgets/controls",
     "model_name": "HBoxModel",
     "model_module_version": "1.5.0",
     "state": {
      "_dom_classes": [],
      "_model_module": "@jupyter-widgets/controls",
      "_model_module_version": "1.5.0",
      "_model_name": "HBoxModel",
      "_view_count": null,
      "_view_module": "@jupyter-widgets/controls",
      "_view_module_version": "1.5.0",
      "_view_name": "HBoxView",
      "box_style": "",
      "children": [
       "IPY_MODEL_7f4b0eaec5d748fe991f7a6081881b72",
       "IPY_MODEL_3cc66092ad1349d2a52fea446bd05cf7",
       "IPY_MODEL_917bee7ccda3445b8b2ff728a6dd61ce"
      ],
      "layout": "IPY_MODEL_5cbb8b3a3f1d47ada8cade846151562b"
     }
    },
    "7f4b0eaec5d748fe991f7a6081881b72": {
     "model_module": "@jupyter-widgets/controls",
     "model_name": "HTMLModel",
     "model_module_version": "1.5.0",
     "state": {
      "_dom_classes": [],
      "_model_module": "@jupyter-widgets/controls",
      "_model_module_version": "1.5.0",
      "_model_name": "HTMLModel",
      "_view_count": null,
      "_view_module": "@jupyter-widgets/controls",
      "_view_module_version": "1.5.0",
      "_view_name": "HTMLView",
      "description": "",
      "description_tooltip": null,
      "layout": "IPY_MODEL_b3556df52a924589aea95eb0336bdd83",
      "placeholder": "​",
      "style": "IPY_MODEL_2e604203e0714c5aa2c579b3766ec0b2",
      "value": "config.json: 100%"
     }
    },
    "3cc66092ad1349d2a52fea446bd05cf7": {
     "model_module": "@jupyter-widgets/controls",
     "model_name": "FloatProgressModel",
     "model_module_version": "1.5.0",
     "state": {
      "_dom_classes": [],
      "_model_module": "@jupyter-widgets/controls",
      "_model_module_version": "1.5.0",
      "_model_name": "FloatProgressModel",
      "_view_count": null,
      "_view_module": "@jupyter-widgets/controls",
      "_view_module_version": "1.5.0",
      "_view_name": "ProgressView",
      "bar_style": "success",
      "description": "",
      "description_tooltip": null,
      "layout": "IPY_MODEL_2e51f23133e347aea3ae5b27c3ed9f8f",
      "max": 69665,
      "min": 0,
      "orientation": "horizontal",
      "style": "IPY_MODEL_dbdf899d3ec04eaeaac56df5072959dd",
      "value": 69665
     }
    },
    "917bee7ccda3445b8b2ff728a6dd61ce": {
     "model_module": "@jupyter-widgets/controls",
     "model_name": "HTMLModel",
     "model_module_version": "1.5.0",
     "state": {
      "_dom_classes": [],
      "_model_module": "@jupyter-widgets/controls",
      "_model_module_version": "1.5.0",
      "_model_name": "HTMLModel",
      "_view_count": null,
      "_view_module": "@jupyter-widgets/controls",
      "_view_module_version": "1.5.0",
      "_view_name": "HTMLView",
      "description": "",
      "description_tooltip": null,
      "layout": "IPY_MODEL_929938e2a4564f4b8d3c78fa3af516be",
      "placeholder": "​",
      "style": "IPY_MODEL_ca0c0d6715da4ca99507cca109cfa221",
      "value": " 69.7k/69.7k [00:00&lt;00:00, 3.39MB/s]"
     }
    },
    "5cbb8b3a3f1d47ada8cade846151562b": {
     "model_module": "@jupyter-widgets/base",
     "model_name": "LayoutModel",
     "model_module_version": "1.2.0",
     "state": {
      "_model_module": "@jupyter-widgets/base",
      "_model_module_version": "1.2.0",
      "_model_name": "LayoutModel",
      "_view_count": null,
      "_view_module": "@jupyter-widgets/base",
      "_view_module_version": "1.2.0",
      "_view_name": "LayoutView",
      "align_content": null,
      "align_items": null,
      "align_self": null,
      "border": null,
      "bottom": null,
      "display": null,
      "flex": null,
      "flex_flow": null,
      "grid_area": null,
      "grid_auto_columns": null,
      "grid_auto_flow": null,
      "grid_auto_rows": null,
      "grid_column": null,
      "grid_gap": null,
      "grid_row": null,
      "grid_template_areas": null,
      "grid_template_columns": null,
      "grid_template_rows": null,
      "height": null,
      "justify_content": null,
      "justify_items": null,
      "left": null,
      "margin": null,
      "max_height": null,
      "max_width": null,
      "min_height": null,
      "min_width": null,
      "object_fit": null,
      "object_position": null,
      "order": null,
      "overflow": null,
      "overflow_x": null,
      "overflow_y": null,
      "padding": null,
      "right": null,
      "top": null,
      "visibility": null,
      "width": null
     }
    },
    "b3556df52a924589aea95eb0336bdd83": {
     "model_module": "@jupyter-widgets/base",
     "model_name": "LayoutModel",
     "model_module_version": "1.2.0",
     "state": {
      "_model_module": "@jupyter-widgets/base",
      "_model_module_version": "1.2.0",
      "_model_name": "LayoutModel",
      "_view_count": null,
      "_view_module": "@jupyter-widgets/base",
      "_view_module_version": "1.2.0",
      "_view_name": "LayoutView",
      "align_content": null,
      "align_items": null,
      "align_self": null,
      "border": null,
      "bottom": null,
      "display": null,
      "flex": null,
      "flex_flow": null,
      "grid_area": null,
      "grid_auto_columns": null,
      "grid_auto_flow": null,
      "grid_auto_rows": null,
      "grid_column": null,
      "grid_gap": null,
      "grid_row": null,
      "grid_template_areas": null,
      "grid_template_columns": null,
      "grid_template_rows": null,
      "height": null,
      "justify_content": null,
      "justify_items": null,
      "left": null,
      "margin": null,
      "max_height": null,
      "max_width": null,
      "min_height": null,
      "min_width": null,
      "object_fit": null,
      "object_position": null,
      "order": null,
      "overflow": null,
      "overflow_x": null,
      "overflow_y": null,
      "padding": null,
      "right": null,
      "top": null,
      "visibility": null,
      "width": null
     }
    },
    "2e604203e0714c5aa2c579b3766ec0b2": {
     "model_module": "@jupyter-widgets/controls",
     "model_name": "DescriptionStyleModel",
     "model_module_version": "1.5.0",
     "state": {
      "_model_module": "@jupyter-widgets/controls",
      "_model_module_version": "1.5.0",
      "_model_name": "DescriptionStyleModel",
      "_view_count": null,
      "_view_module": "@jupyter-widgets/base",
      "_view_module_version": "1.2.0",
      "_view_name": "StyleView",
      "description_width": ""
     }
    },
    "2e51f23133e347aea3ae5b27c3ed9f8f": {
     "model_module": "@jupyter-widgets/base",
     "model_name": "LayoutModel",
     "model_module_version": "1.2.0",
     "state": {
      "_model_module": "@jupyter-widgets/base",
      "_model_module_version": "1.2.0",
      "_model_name": "LayoutModel",
      "_view_count": null,
      "_view_module": "@jupyter-widgets/base",
      "_view_module_version": "1.2.0",
      "_view_name": "LayoutView",
      "align_content": null,
      "align_items": null,
      "align_self": null,
      "border": null,
      "bottom": null,
      "display": null,
      "flex": null,
      "flex_flow": null,
      "grid_area": null,
      "grid_auto_columns": null,
      "grid_auto_flow": null,
      "grid_auto_rows": null,
      "grid_column": null,
      "grid_gap": null,
      "grid_row": null,
      "grid_template_areas": null,
      "grid_template_columns": null,
      "grid_template_rows": null,
      "height": null,
      "justify_content": null,
      "justify_items": null,
      "left": null,
      "margin": null,
      "max_height": null,
      "max_width": null,
      "min_height": null,
      "min_width": null,
      "object_fit": null,
      "object_position": null,
      "order": null,
      "overflow": null,
      "overflow_x": null,
      "overflow_y": null,
      "padding": null,
      "right": null,
      "top": null,
      "visibility": null,
      "width": null
     }
    },
    "dbdf899d3ec04eaeaac56df5072959dd": {
     "model_module": "@jupyter-widgets/controls",
     "model_name": "ProgressStyleModel",
     "model_module_version": "1.5.0",
     "state": {
      "_model_module": "@jupyter-widgets/controls",
      "_model_module_version": "1.5.0",
      "_model_name": "ProgressStyleModel",
      "_view_count": null,
      "_view_module": "@jupyter-widgets/base",
      "_view_module_version": "1.2.0",
      "_view_name": "StyleView",
      "bar_color": null,
      "description_width": ""
     }
    },
    "929938e2a4564f4b8d3c78fa3af516be": {
     "model_module": "@jupyter-widgets/base",
     "model_name": "LayoutModel",
     "model_module_version": "1.2.0",
     "state": {
      "_model_module": "@jupyter-widgets/base",
      "_model_module_version": "1.2.0",
      "_model_name": "LayoutModel",
      "_view_count": null,
      "_view_module": "@jupyter-widgets/base",
      "_view_module_version": "1.2.0",
      "_view_name": "LayoutView",
      "align_content": null,
      "align_items": null,
      "align_self": null,
      "border": null,
      "bottom": null,
      "display": null,
      "flex": null,
      "flex_flow": null,
      "grid_area": null,
      "grid_auto_columns": null,
      "grid_auto_flow": null,
      "grid_auto_rows": null,
      "grid_column": null,
      "grid_gap": null,
      "grid_row": null,
      "grid_template_areas": null,
      "grid_template_columns": null,
      "grid_template_rows": null,
      "height": null,
      "justify_content": null,
      "justify_items": null,
      "left": null,
      "margin": null,
      "max_height": null,
      "max_width": null,
      "min_height": null,
      "min_width": null,
      "object_fit": null,
      "object_position": null,
      "order": null,
      "overflow": null,
      "overflow_x": null,
      "overflow_y": null,
      "padding": null,
      "right": null,
      "top": null,
      "visibility": null,
      "width": null
     }
    },
    "ca0c0d6715da4ca99507cca109cfa221": {
     "model_module": "@jupyter-widgets/controls",
     "model_name": "DescriptionStyleModel",
     "model_module_version": "1.5.0",
     "state": {
      "_model_module": "@jupyter-widgets/controls",
      "_model_module_version": "1.5.0",
      "_model_name": "DescriptionStyleModel",
      "_view_count": null,
      "_view_module": "@jupyter-widgets/base",
      "_view_module_version": "1.2.0",
      "_view_name": "StyleView",
      "description_width": ""
     }
    },
    "abcb6ab9439948b0b07ffe11c360f06e": {
     "model_module": "@jupyter-widgets/controls",
     "model_name": "HBoxModel",
     "model_module_version": "1.5.0",
     "state": {
      "_dom_classes": [],
      "_model_module": "@jupyter-widgets/controls",
      "_model_module_version": "1.5.0",
      "_model_name": "HBoxModel",
      "_view_count": null,
      "_view_module": "@jupyter-widgets/controls",
      "_view_module_version": "1.5.0",
      "_view_name": "HBoxView",
      "box_style": "",
      "children": [
       "IPY_MODEL_eab82e8c40c1424398a5c7a358cb0cc8",
       "IPY_MODEL_8d1ef40ac6a04b19af1082e7d98ba368",
       "IPY_MODEL_36a9f763a87a4c98af824487cdeffaee"
      ],
      "layout": "IPY_MODEL_de301573fe6e47d18d372bb988b7ed35"
     }
    },
    "eab82e8c40c1424398a5c7a358cb0cc8": {
     "model_module": "@jupyter-widgets/controls",
     "model_name": "HTMLModel",
     "model_module_version": "1.5.0",
     "state": {
      "_dom_classes": [],
      "_model_module": "@jupyter-widgets/controls",
      "_model_module_version": "1.5.0",
      "_model_name": "HTMLModel",
      "_view_count": null,
      "_view_module": "@jupyter-widgets/controls",
      "_view_module_version": "1.5.0",
      "_view_name": "HTMLView",
      "description": "",
      "description_tooltip": null,
      "layout": "IPY_MODEL_3b3389ab4b744a4da657138414ec31cf",
      "placeholder": "​",
      "style": "IPY_MODEL_db56768ccb694e53b81fec2d87059e51",
      "value": "model.safetensors: 100%"
     }
    },
    "8d1ef40ac6a04b19af1082e7d98ba368": {
     "model_module": "@jupyter-widgets/controls",
     "model_name": "FloatProgressModel",
     "model_module_version": "1.5.0",
     "state": {
      "_dom_classes": [],
      "_model_module": "@jupyter-widgets/controls",
      "_model_module_version": "1.5.0",
      "_model_name": "FloatProgressModel",
      "_view_count": null,
      "_view_module": "@jupyter-widgets/controls",
      "_view_module_version": "1.5.0",
      "_view_name": "ProgressView",
      "bar_style": "success",
      "description": "",
      "description_tooltip": null,
      "layout": "IPY_MODEL_fa72543422374023911fcee897a6036d",
      "max": 346293852,
      "min": 0,
      "orientation": "horizontal",
      "style": "IPY_MODEL_d7dce26771014bb3af836892b3c6de59",
      "value": 346293852
     }
    },
    "36a9f763a87a4c98af824487cdeffaee": {
     "model_module": "@jupyter-widgets/controls",
     "model_name": "HTMLModel",
     "model_module_version": "1.5.0",
     "state": {
      "_dom_classes": [],
      "_model_module": "@jupyter-widgets/controls",
      "_model_module_version": "1.5.0",
      "_model_name": "HTMLModel",
      "_view_count": null,
      "_view_module": "@jupyter-widgets/controls",
      "_view_module_version": "1.5.0",
      "_view_name": "HTMLView",
      "description": "",
      "description_tooltip": null,
      "layout": "IPY_MODEL_33da5c54e2384c1a927ac81618a97aca",
      "placeholder": "​",
      "style": "IPY_MODEL_bf5d36fc0646453b8461f8047549ee0b",
      "value": " 346M/346M [00:01&lt;00:00, 322MB/s]"
     }
    },
    "de301573fe6e47d18d372bb988b7ed35": {
     "model_module": "@jupyter-widgets/base",
     "model_name": "LayoutModel",
     "model_module_version": "1.2.0",
     "state": {
      "_model_module": "@jupyter-widgets/base",
      "_model_module_version": "1.2.0",
      "_model_name": "LayoutModel",
      "_view_count": null,
      "_view_module": "@jupyter-widgets/base",
      "_view_module_version": "1.2.0",
      "_view_name": "LayoutView",
      "align_content": null,
      "align_items": null,
      "align_self": null,
      "border": null,
      "bottom": null,
      "display": null,
      "flex": null,
      "flex_flow": null,
      "grid_area": null,
      "grid_auto_columns": null,
      "grid_auto_flow": null,
      "grid_auto_rows": null,
      "grid_column": null,
      "grid_gap": null,
      "grid_row": null,
      "grid_template_areas": null,
      "grid_template_columns": null,
      "grid_template_rows": null,
      "height": null,
      "justify_content": null,
      "justify_items": null,
      "left": null,
      "margin": null,
      "max_height": null,
      "max_width": null,
      "min_height": null,
      "min_width": null,
      "object_fit": null,
      "object_position": null,
      "order": null,
      "overflow": null,
      "overflow_x": null,
      "overflow_y": null,
      "padding": null,
      "right": null,
      "top": null,
      "visibility": null,
      "width": null
     }
    },
    "3b3389ab4b744a4da657138414ec31cf": {
     "model_module": "@jupyter-widgets/base",
     "model_name": "LayoutModel",
     "model_module_version": "1.2.0",
     "state": {
      "_model_module": "@jupyter-widgets/base",
      "_model_module_version": "1.2.0",
      "_model_name": "LayoutModel",
      "_view_count": null,
      "_view_module": "@jupyter-widgets/base",
      "_view_module_version": "1.2.0",
      "_view_name": "LayoutView",
      "align_content": null,
      "align_items": null,
      "align_self": null,
      "border": null,
      "bottom": null,
      "display": null,
      "flex": null,
      "flex_flow": null,
      "grid_area": null,
      "grid_auto_columns": null,
      "grid_auto_flow": null,
      "grid_auto_rows": null,
      "grid_column": null,
      "grid_gap": null,
      "grid_row": null,
      "grid_template_areas": null,
      "grid_template_columns": null,
      "grid_template_rows": null,
      "height": null,
      "justify_content": null,
      "justify_items": null,
      "left": null,
      "margin": null,
      "max_height": null,
      "max_width": null,
      "min_height": null,
      "min_width": null,
      "object_fit": null,
      "object_position": null,
      "order": null,
      "overflow": null,
      "overflow_x": null,
      "overflow_y": null,
      "padding": null,
      "right": null,
      "top": null,
      "visibility": null,
      "width": null
     }
    },
    "db56768ccb694e53b81fec2d87059e51": {
     "model_module": "@jupyter-widgets/controls",
     "model_name": "DescriptionStyleModel",
     "model_module_version": "1.5.0",
     "state": {
      "_model_module": "@jupyter-widgets/controls",
      "_model_module_version": "1.5.0",
      "_model_name": "DescriptionStyleModel",
      "_view_count": null,
      "_view_module": "@jupyter-widgets/base",
      "_view_module_version": "1.2.0",
      "_view_name": "StyleView",
      "description_width": ""
     }
    },
    "fa72543422374023911fcee897a6036d": {
     "model_module": "@jupyter-widgets/base",
     "model_name": "LayoutModel",
     "model_module_version": "1.2.0",
     "state": {
      "_model_module": "@jupyter-widgets/base",
      "_model_module_version": "1.2.0",
      "_model_name": "LayoutModel",
      "_view_count": null,
      "_view_module": "@jupyter-widgets/base",
      "_view_module_version": "1.2.0",
      "_view_name": "LayoutView",
      "align_content": null,
      "align_items": null,
      "align_self": null,
      "border": null,
      "bottom": null,
      "display": null,
      "flex": null,
      "flex_flow": null,
      "grid_area": null,
      "grid_auto_columns": null,
      "grid_auto_flow": null,
      "grid_auto_rows": null,
      "grid_column": null,
      "grid_gap": null,
      "grid_row": null,
      "grid_template_areas": null,
      "grid_template_columns": null,
      "grid_template_rows": null,
      "height": null,
      "justify_content": null,
      "justify_items": null,
      "left": null,
      "margin": null,
      "max_height": null,
      "max_width": null,
      "min_height": null,
      "min_width": null,
      "object_fit": null,
      "object_position": null,
      "order": null,
      "overflow": null,
      "overflow_x": null,
      "overflow_y": null,
      "padding": null,
      "right": null,
      "top": null,
      "visibility": null,
      "width": null
     }
    },
    "d7dce26771014bb3af836892b3c6de59": {
     "model_module": "@jupyter-widgets/controls",
     "model_name": "ProgressStyleModel",
     "model_module_version": "1.5.0",
     "state": {
      "_model_module": "@jupyter-widgets/controls",
      "_model_module_version": "1.5.0",
      "_model_name": "ProgressStyleModel",
      "_view_count": null,
      "_view_module": "@jupyter-widgets/base",
      "_view_module_version": "1.2.0",
      "_view_name": "StyleView",
      "bar_color": null,
      "description_width": ""
     }
    },
    "33da5c54e2384c1a927ac81618a97aca": {
     "model_module": "@jupyter-widgets/base",
     "model_name": "LayoutModel",
     "model_module_version": "1.2.0",
     "state": {
      "_model_module": "@jupyter-widgets/base",
      "_model_module_version": "1.2.0",
      "_model_name": "LayoutModel",
      "_view_count": null,
      "_view_module": "@jupyter-widgets/base",
      "_view_module_version": "1.2.0",
      "_view_name": "LayoutView",
      "align_content": null,
      "align_items": null,
      "align_self": null,
      "border": null,
      "bottom": null,
      "display": null,
      "flex": null,
      "flex_flow": null,
      "grid_area": null,
      "grid_auto_columns": null,
      "grid_auto_flow": null,
      "grid_auto_rows": null,
      "grid_column": null,
      "grid_gap": null,
      "grid_row": null,
      "grid_template_areas": null,
      "grid_template_columns": null,
      "grid_template_rows": null,
      "height": null,
      "justify_content": null,
      "justify_items": null,
      "left": null,
      "margin": null,
      "max_height": null,
      "max_width": null,
      "min_height": null,
      "min_width": null,
      "object_fit": null,
      "object_position": null,
      "order": null,
      "overflow": null,
      "overflow_x": null,
      "overflow_y": null,
      "padding": null,
      "right": null,
      "top": null,
      "visibility": null,
      "width": null
     }
    },
    "bf5d36fc0646453b8461f8047549ee0b": {
     "model_module": "@jupyter-widgets/controls",
     "model_name": "DescriptionStyleModel",
     "model_module_version": "1.5.0",
     "state": {
      "_model_module": "@jupyter-widgets/controls",
      "_model_module_version": "1.5.0",
      "_model_name": "DescriptionStyleModel",
      "_view_count": null,
      "_view_module": "@jupyter-widgets/base",
      "_view_module_version": "1.2.0",
      "_view_name": "StyleView",
      "description_width": ""
     }
    }
   }
  },
  "accelerator": "GPU"
 },
 "cells": [
  {
   "cell_type": "code",
   "metadata": {
    "colab": {
     "base_uri": "https://localhost:8080/",
     "height": 1000
    },
    "id": "Qh2iA86T0Cj4",
    "executionInfo": {
     "status": "ok",
     "timestamp": 1749519003963,
     "user_tz": -540,
     "elapsed": 164792,
     "user": {
      "displayName": "DE25-T4 Project2",
      "userId": "12131723048208815686"
     }
    },
    "outputId": "6dc72b6f-bb6d-40d6-fe45-d601c80941c7",
    "ExecuteTime": {
     "end_time": "2025-06-14T03:43:41.763521Z",
     "start_time": "2025-06-14T03:42:55.381408Z"
    }
   },
   "source": [
    "!pip install --upgrade google-cloud-storage transformers accelerate torch torchvision matplotlib"
   ],
   "outputs": [
    {
     "name": "stdout",
     "output_type": "stream",
     "text": [
      "Requirement already satisfied: google-cloud-storage in c:\\users\\user\\pycharmprojects\\gpu_de\\.venv\\lib\\site-packages (3.1.0)\n",
      "Requirement already satisfied: transformers in c:\\users\\user\\pycharmprojects\\gpu_de\\.venv\\lib\\site-packages (4.52.4)\n",
      "Requirement already satisfied: accelerate in c:\\users\\user\\pycharmprojects\\gpu_de\\.venv\\lib\\site-packages (1.7.0)\n",
      "Requirement already satisfied: torch in c:\\users\\user\\pycharmprojects\\gpu_de\\.venv\\lib\\site-packages (2.5.1+cu121)\n",
      "Collecting torch\n",
      "  Using cached torch-2.7.1-cp312-cp312-win_amd64.whl.metadata (28 kB)\n",
      "Requirement already satisfied: torchvision in c:\\users\\user\\pycharmprojects\\gpu_de\\.venv\\lib\\site-packages (0.20.1+cu121)\n",
      "Collecting torchvision\n",
      "  Using cached torchvision-0.22.1-cp312-cp312-win_amd64.whl.metadata (6.1 kB)\n",
      "Requirement already satisfied: matplotlib in c:\\users\\user\\pycharmprojects\\gpu_de\\.venv\\lib\\site-packages (3.10.3)\n",
      "Requirement already satisfied: google-auth<3.0dev,>=2.26.1 in c:\\users\\user\\pycharmprojects\\gpu_de\\.venv\\lib\\site-packages (from google-cloud-storage) (2.40.3)\n",
      "Requirement already satisfied: google-api-core<3.0.0dev,>=2.15.0 in c:\\users\\user\\pycharmprojects\\gpu_de\\.venv\\lib\\site-packages (from google-cloud-storage) (2.25.0)\n",
      "Requirement already satisfied: google-cloud-core<3.0dev,>=2.4.2 in c:\\users\\user\\pycharmprojects\\gpu_de\\.venv\\lib\\site-packages (from google-cloud-storage) (2.4.3)\n",
      "Requirement already satisfied: google-resumable-media>=2.7.2 in c:\\users\\user\\pycharmprojects\\gpu_de\\.venv\\lib\\site-packages (from google-cloud-storage) (2.7.2)\n",
      "Requirement already satisfied: requests<3.0.0dev,>=2.18.0 in c:\\users\\user\\pycharmprojects\\gpu_de\\.venv\\lib\\site-packages (from google-cloud-storage) (2.32.4)\n",
      "Requirement already satisfied: google-crc32c<2.0dev,>=1.0 in c:\\users\\user\\pycharmprojects\\gpu_de\\.venv\\lib\\site-packages (from google-cloud-storage) (1.7.1)\n",
      "Requirement already satisfied: filelock in c:\\users\\user\\pycharmprojects\\gpu_de\\.venv\\lib\\site-packages (from transformers) (3.18.0)\n",
      "Requirement already satisfied: huggingface-hub<1.0,>=0.30.0 in c:\\users\\user\\pycharmprojects\\gpu_de\\.venv\\lib\\site-packages (from transformers) (0.32.6)\n",
      "Requirement already satisfied: numpy>=1.17 in c:\\users\\user\\pycharmprojects\\gpu_de\\.venv\\lib\\site-packages (from transformers) (2.3.0)\n",
      "Requirement already satisfied: packaging>=20.0 in c:\\users\\user\\pycharmprojects\\gpu_de\\.venv\\lib\\site-packages (from transformers) (25.0)\n",
      "Requirement already satisfied: pyyaml>=5.1 in c:\\users\\user\\pycharmprojects\\gpu_de\\.venv\\lib\\site-packages (from transformers) (6.0.2)\n",
      "Requirement already satisfied: regex!=2019.12.17 in c:\\users\\user\\pycharmprojects\\gpu_de\\.venv\\lib\\site-packages (from transformers) (2024.11.6)\n",
      "Requirement already satisfied: tokenizers<0.22,>=0.21 in c:\\users\\user\\pycharmprojects\\gpu_de\\.venv\\lib\\site-packages (from transformers) (0.21.1)\n",
      "Requirement already satisfied: safetensors>=0.4.3 in c:\\users\\user\\pycharmprojects\\gpu_de\\.venv\\lib\\site-packages (from transformers) (0.5.3)\n",
      "Requirement already satisfied: tqdm>=4.27 in c:\\users\\user\\pycharmprojects\\gpu_de\\.venv\\lib\\site-packages (from transformers) (4.67.1)\n",
      "Requirement already satisfied: psutil in c:\\users\\user\\pycharmprojects\\gpu_de\\.venv\\lib\\site-packages (from accelerate) (7.0.0)\n",
      "Requirement already satisfied: typing-extensions>=4.10.0 in c:\\users\\user\\pycharmprojects\\gpu_de\\.venv\\lib\\site-packages (from torch) (4.14.0)\n",
      "Collecting sympy>=1.13.3 (from torch)\n",
      "  Using cached sympy-1.14.0-py3-none-any.whl.metadata (12 kB)\n",
      "Requirement already satisfied: networkx in c:\\users\\user\\pycharmprojects\\gpu_de\\.venv\\lib\\site-packages (from torch) (3.5)\n",
      "Requirement already satisfied: jinja2 in c:\\users\\user\\pycharmprojects\\gpu_de\\.venv\\lib\\site-packages (from torch) (3.1.6)\n",
      "Requirement already satisfied: fsspec in c:\\users\\user\\pycharmprojects\\gpu_de\\.venv\\lib\\site-packages (from torch) (2025.3.0)\n",
      "Requirement already satisfied: setuptools in c:\\users\\user\\pycharmprojects\\gpu_de\\.venv\\lib\\site-packages (from torch) (80.9.0)\n",
      "Requirement already satisfied: pillow!=8.3.*,>=5.3.0 in c:\\users\\user\\pycharmprojects\\gpu_de\\.venv\\lib\\site-packages (from torchvision) (11.2.1)\n",
      "Requirement already satisfied: contourpy>=1.0.1 in c:\\users\\user\\pycharmprojects\\gpu_de\\.venv\\lib\\site-packages (from matplotlib) (1.3.2)\n",
      "Requirement already satisfied: cycler>=0.10 in c:\\users\\user\\pycharmprojects\\gpu_de\\.venv\\lib\\site-packages (from matplotlib) (0.12.1)\n",
      "Requirement already satisfied: fonttools>=4.22.0 in c:\\users\\user\\pycharmprojects\\gpu_de\\.venv\\lib\\site-packages (from matplotlib) (4.58.2)\n",
      "Requirement already satisfied: kiwisolver>=1.3.1 in c:\\users\\user\\pycharmprojects\\gpu_de\\.venv\\lib\\site-packages (from matplotlib) (1.4.8)\n",
      "Requirement already satisfied: pyparsing>=2.3.1 in c:\\users\\user\\pycharmprojects\\gpu_de\\.venv\\lib\\site-packages (from matplotlib) (3.2.3)\n",
      "Requirement already satisfied: python-dateutil>=2.7 in c:\\users\\user\\pycharmprojects\\gpu_de\\.venv\\lib\\site-packages (from matplotlib) (2.9.0.post0)\n",
      "Requirement already satisfied: googleapis-common-protos<2.0.0,>=1.56.2 in c:\\users\\user\\pycharmprojects\\gpu_de\\.venv\\lib\\site-packages (from google-api-core<3.0.0dev,>=2.15.0->google-cloud-storage) (1.70.0)\n",
      "Requirement already satisfied: protobuf!=3.20.0,!=3.20.1,!=4.21.0,!=4.21.1,!=4.21.2,!=4.21.3,!=4.21.4,!=4.21.5,<7.0.0,>=3.19.5 in c:\\users\\user\\pycharmprojects\\gpu_de\\.venv\\lib\\site-packages (from google-api-core<3.0.0dev,>=2.15.0->google-cloud-storage) (6.31.1)\n",
      "Requirement already satisfied: proto-plus<2.0.0,>=1.22.3 in c:\\users\\user\\pycharmprojects\\gpu_de\\.venv\\lib\\site-packages (from google-api-core<3.0.0dev,>=2.15.0->google-cloud-storage) (1.26.1)\n",
      "Requirement already satisfied: cachetools<6.0,>=2.0.0 in c:\\users\\user\\pycharmprojects\\gpu_de\\.venv\\lib\\site-packages (from google-auth<3.0dev,>=2.26.1->google-cloud-storage) (5.5.2)\n",
      "Requirement already satisfied: pyasn1-modules>=0.2.1 in c:\\users\\user\\pycharmprojects\\gpu_de\\.venv\\lib\\site-packages (from google-auth<3.0dev,>=2.26.1->google-cloud-storage) (0.4.2)\n",
      "Requirement already satisfied: rsa<5,>=3.1.4 in c:\\users\\user\\pycharmprojects\\gpu_de\\.venv\\lib\\site-packages (from google-auth<3.0dev,>=2.26.1->google-cloud-storage) (4.9.1)\n",
      "Requirement already satisfied: six>=1.5 in c:\\users\\user\\pycharmprojects\\gpu_de\\.venv\\lib\\site-packages (from python-dateutil>=2.7->matplotlib) (1.17.0)\n",
      "Requirement already satisfied: charset_normalizer<4,>=2 in c:\\users\\user\\pycharmprojects\\gpu_de\\.venv\\lib\\site-packages (from requests<3.0.0dev,>=2.18.0->google-cloud-storage) (3.4.2)\n",
      "Requirement already satisfied: idna<4,>=2.5 in c:\\users\\user\\pycharmprojects\\gpu_de\\.venv\\lib\\site-packages (from requests<3.0.0dev,>=2.18.0->google-cloud-storage) (3.10)\n",
      "Requirement already satisfied: urllib3<3,>=1.21.1 in c:\\users\\user\\pycharmprojects\\gpu_de\\.venv\\lib\\site-packages (from requests<3.0.0dev,>=2.18.0->google-cloud-storage) (2.4.0)\n",
      "Requirement already satisfied: certifi>=2017.4.17 in c:\\users\\user\\pycharmprojects\\gpu_de\\.venv\\lib\\site-packages (from requests<3.0.0dev,>=2.18.0->google-cloud-storage) (2025.4.26)\n",
      "Requirement already satisfied: mpmath<1.4,>=1.1.0 in c:\\users\\user\\pycharmprojects\\gpu_de\\.venv\\lib\\site-packages (from sympy>=1.13.3->torch) (1.3.0)\n",
      "Requirement already satisfied: colorama in c:\\users\\user\\pycharmprojects\\gpu_de\\.venv\\lib\\site-packages (from tqdm>=4.27->transformers) (0.4.6)\n",
      "Requirement already satisfied: MarkupSafe>=2.0 in c:\\users\\user\\pycharmprojects\\gpu_de\\.venv\\lib\\site-packages (from jinja2->torch) (3.0.2)\n",
      "Requirement already satisfied: pyasn1<0.7.0,>=0.6.1 in c:\\users\\user\\pycharmprojects\\gpu_de\\.venv\\lib\\site-packages (from pyasn1-modules>=0.2.1->google-auth<3.0dev,>=2.26.1->google-cloud-storage) (0.6.1)\n",
      "Using cached torch-2.7.1-cp312-cp312-win_amd64.whl (216.1 MB)\n",
      "Using cached torchvision-0.22.1-cp312-cp312-win_amd64.whl (1.7 MB)\n",
      "Using cached sympy-1.14.0-py3-none-any.whl (6.3 MB)\n",
      "Installing collected packages: sympy, torch, torchvision\n",
      "  Attempting uninstall: sympy\n",
      "    Found existing installation: sympy 1.13.1\n",
      "    Uninstalling sympy-1.13.1:\n",
      "      Successfully uninstalled sympy-1.13.1\n",
      "  Attempting uninstall: torch\n",
      "    Found existing installation: torch 2.5.1+cu121\n",
      "    Uninstalling torch-2.5.1+cu121:\n",
      "      Successfully uninstalled torch-2.5.1+cu121\n",
      "  Attempting uninstall: torchvision\n",
      "    Found existing installation: torchvision 0.20.1+cu121\n",
      "    Uninstalling torchvision-0.20.1+cu121:\n",
      "      Successfully uninstalled torchvision-0.20.1+cu121\n",
      "Successfully installed sympy-1.14.0 torch-2.7.1 torchvision-0.22.1\n"
     ]
    },
    {
     "name": "stderr",
     "output_type": "stream",
     "text": [
      "  WARNING: Failed to remove contents in a temporary directory 'C:\\Users\\User\\PycharmProjects\\GPU_DE\\.venv\\Lib\\site-packages\\~orch'.\n",
      "  You can safely remove it manually.\n",
      "  WARNING: Failed to remove contents in a temporary directory 'C:\\Users\\User\\PycharmProjects\\GPU_DE\\.venv\\Lib\\site-packages\\~orchvision'.\n",
      "  You can safely remove it manually.\n",
      "ERROR: pip's dependency resolver does not currently take into account all the packages that are installed. This behaviour is the source of the following dependency conflicts.\n",
      "torchaudio 2.5.1+cu121 requires torch==2.5.1+cu121, but you have torch 2.7.1 which is incompatible.\n",
      "\n",
      "[notice] A new release of pip is available: 25.0.1 -> 25.1.1\n",
      "[notice] To update, run: python.exe -m pip install --upgrade pip\n"
     ]
    }
   ],
   "execution_count": 1
  },
  {
   "cell_type": "code",
   "source": [
    "from concurrent.futures import ThreadPoolExecutor, as_completed\n",
    "from tqdm import tqdm\n",
    "import pandas as pd\n",
    "import torch\n",
    "import requests\n",
    "import json\n",
    "import io\n",
    "import re\n",
    "from PIL import Image\n",
    "from torchvision import transforms\n",
    "from transformers import ViTForImageClassification\n",
    "from google.cloud import storage\n",
    "import os\n",
    "os.environ[\"GOOGLE_APPLICATION_CREDENTIALS\"] = \"valid-might-460212-k2-aa639e904de6.json\"\n",
    "\n",
    "# 클라이언트 생성\n",
    "client = storage.Client()\n",
    "bucket = client.bucket(\"de-project2-bucket-1\")"
   ],
   "metadata": {
    "id": "jet8EMMr3zKj",
    "ExecuteTime": {
     "end_time": "2025-06-14T03:50:44.423376Z",
     "start_time": "2025-06-14T03:50:44.045102Z"
    }
   },
   "outputs": [],
   "execution_count": 3
  },
  {
   "cell_type": "markdown",
   "source": [
    "# 데이터셋 준비"
   ],
   "metadata": {
    "id": "dr6FIBjl7dyJ"
   }
  },
  {
   "cell_type": "code",
   "source": [
    "\n",
    "# [2] CSV 다운로드 및 로드\n",
    "csv_blob = bucket.blob(\"kyobo/csv/combined/after_preprocessing_novel.csv\")\n",
    "csv_data = csv_blob.download_as_text()\n",
    "df = pd.read_csv(io.StringIO(csv_data))\n",
    "\n",
    "# [3] 이미지 URL 추출\n",
    "def extract_image_url(cell):\n",
    "    if isinstance(cell, str):\n",
    "        match = re.search(r'\"(https://[^\"]+)\"', cell)\n",
    "        if match:\n",
    "            return match.group(1)\n",
    "        elif cell.startswith(\"https://\"):\n",
    "            return cell\n",
    "    return None\n",
    "\n",
    "df[\"image_url_clean\"] = df[\"image_url\"].apply(extract_image_url)"
   ],
   "metadata": {
    "id": "izqmSP2w0QKd",
    "ExecuteTime": {
     "end_time": "2025-06-14T03:51:35.716358Z",
     "start_time": "2025-06-14T03:51:34.320380Z"
    }
   },
   "outputs": [],
   "execution_count": 6
  },
  {
   "cell_type": "markdown",
   "source": [
    "# 모델 불러오기"
   ],
   "metadata": {
    "id": "-vInIONa86AM"
   }
  },
  {
   "cell_type": "code",
   "source": [
    "# [4] 드라이브 마운트 및 모델 불러오기\n",
    "device = torch.device(\"cuda\" if torch.cuda.is_available() else \"cpu\")\n",
    "\n",
    "model = ViTForImageClassification.from_pretrained(\"google/vit-base-patch16-224\", num_labels=5, ignore_mismatched_sizes=True)\n",
    "model.load_state_dict(torch.load(\"best_model_vit_mood2.pt\", map_location=device))\n",
    "\n",
    "model.to(device)\n",
    "model.eval()\n",
    "\n",
    "with open(\"label_classes_final2.json\", \"r\") as f:\n",
    "    class_names = json.load(f)\n",
    "\n",
    "transform = transforms.Compose([\n",
    "    transforms.Resize((224, 224)),\n",
    "    transforms.ToTensor(),\n",
    "    transforms.Normalize(mean=(0.5, 0.5, 0.5), std=(0.5, 0.5, 0.5))\n",
    "])"
   ],
   "metadata": {
    "id": "uf8_HngAAI7K",
    "colab": {
     "base_uri": "https://localhost:8080/",
     "height": 277,
     "referenced_widgets": [
      "2181765e422b4be4b702f392a806a097",
      "7f4b0eaec5d748fe991f7a6081881b72",
      "3cc66092ad1349d2a52fea446bd05cf7",
      "917bee7ccda3445b8b2ff728a6dd61ce",
      "5cbb8b3a3f1d47ada8cade846151562b",
      "b3556df52a924589aea95eb0336bdd83",
      "2e604203e0714c5aa2c579b3766ec0b2",
      "2e51f23133e347aea3ae5b27c3ed9f8f",
      "dbdf899d3ec04eaeaac56df5072959dd",
      "929938e2a4564f4b8d3c78fa3af516be",
      "ca0c0d6715da4ca99507cca109cfa221",
      "abcb6ab9439948b0b07ffe11c360f06e",
      "eab82e8c40c1424398a5c7a358cb0cc8",
      "8d1ef40ac6a04b19af1082e7d98ba368",
      "36a9f763a87a4c98af824487cdeffaee",
      "de301573fe6e47d18d372bb988b7ed35",
      "3b3389ab4b744a4da657138414ec31cf",
      "db56768ccb694e53b81fec2d87059e51",
      "fa72543422374023911fcee897a6036d",
      "d7dce26771014bb3af836892b3c6de59",
      "33da5c54e2384c1a927ac81618a97aca",
      "bf5d36fc0646453b8461f8047549ee0b"
     ]
    },
    "executionInfo": {
     "status": "ok",
     "timestamp": 1749519055527,
     "user_tz": -540,
     "elapsed": 22581,
     "user": {
      "displayName": "DE25-T4 Project2",
      "userId": "12131723048208815686"
     }
    },
    "outputId": "969baa52-dda0-43de-f0f0-fffdc6ef8ab2",
    "ExecuteTime": {
     "end_time": "2025-06-14T03:53:18.972441Z",
     "start_time": "2025-06-14T03:53:17.692773Z"
    }
   },
   "outputs": [
    {
     "name": "stderr",
     "output_type": "stream",
     "text": [
      "Some weights of ViTForImageClassification were not initialized from the model checkpoint at google/vit-base-patch16-224 and are newly initialized because the shapes did not match:\n",
      "- classifier.bias: found shape torch.Size([1000]) in the checkpoint and torch.Size([5]) in the model instantiated\n",
      "- classifier.weight: found shape torch.Size([1000, 768]) in the checkpoint and torch.Size([5, 768]) in the model instantiated\n",
      "You should probably TRAIN this model on a down-stream task to be able to use it for predictions and inference.\n"
     ]
    }
   ],
   "execution_count": 8
  },
  {
   "cell_type": "code",
   "source": [
    "# [5] 이미지 예측 함수\n",
    "def predict_image_mood(image_url):\n",
    "    if not image_url:\n",
    "        return \"제품 이미지 없음\"\n",
    "    try:\n",
    "        response = requests.get(image_url, timeout=10)\n",
    "        if response.status_code != 200:\n",
    "            return \"제품 이미지 없음\"\n",
    "        image = Image.open(io.BytesIO(response.content)).convert(\"RGB\")\n",
    "        image_tensor = transform(image).unsqueeze(0).to(device)\n",
    "        with torch.no_grad():\n",
    "            outputs = model(image_tensor)\n",
    "            logits = outputs.logits\n",
    "            predicted_class = torch.argmax(logits, dim=1).item()\n",
    "        return class_names[predicted_class]\n",
    "    except Exception as e:\n",
    "        print(f\"❌ 예외 발생: {image_url} | {e}\")\n",
    "        return \"제품 이미지 없음\"\n",
    "\n",
    "# [6] 개별 행 처리 함수\n",
    "def process_row(i_row):\n",
    "    i, row = i_row\n",
    "    image_url = row[\"image_url_clean\"]\n",
    "    product_id = str(row.get(\"product_id\", \"\")).replace(\",\", \" \").replace(\"\\n\", \" \")\n",
    "    mood = predict_image_mood(image_url)\n",
    "    return f\"{i},{product_id},{mood}\"\n"
   ],
   "metadata": {
    "id": "Wvbd1tscYl69",
    "ExecuteTime": {
     "end_time": "2025-06-14T05:05:03.269342Z",
     "start_time": "2025-06-14T05:05:03.261437Z"
    }
   },
   "outputs": [],
   "execution_count": 13
  },
  {
   "cell_type": "code",
   "source": [
    "# [7] 백업 및 결과 경로 설정\n",
    "DRIVE_BACKUP_PATH = \"mood_inference_backup_product_id.txt\"\n",
    "GCS_PATH_PREFIX = \"kyobo/csv/combined/inference_mood_batches/\"\n",
    "GCS_FILE_NAME = \"mood_classification.csv\"\n",
    "\n",
    "# 헤더 초기화\n",
    "with open(DRIVE_BACKUP_PATH, \"w\", encoding=\"utf-8\") as f:\n",
    "    f.write(\"index,product_id,mood\\n\")\n",
    "\n",
    "\n",
    "# [8] 병렬 Inference + N줄 단위로 I/O\n",
    "batch_results = []\n",
    "buffer_size = 50  # N줄마다 저장\n",
    "\n",
    "with ThreadPoolExecutor(max_workers=16) as executor:\n",
    "    futures = [executor.submit(process_row, item) for item in df.iterrows()]\n",
    "    for future in tqdm(as_completed(futures), total=len(df)):\n",
    "        try:\n",
    "            line = future.result()\n",
    "            batch_results.append(line)\n",
    "\n",
    "            # N줄마다 저장\n",
    "            if len(batch_results) % buffer_size == 0:\n",
    "                with open(DRIVE_BACKUP_PATH, \"a\", encoding=\"utf-8\") as f:\n",
    "                    f.write(\"\\n\".join(batch_results[-buffer_size:]) + \"\\n\")\n",
    "\n",
    "        except Exception as e:\n",
    "            print(f\"❌ 처리 실패: {e}\")\n",
    "\n",
    "# [9] 최종 누락분 저장\n",
    "with open(DRIVE_BACKUP_PATH, \"a\", encoding=\"utf-8\") as f:\n",
    "    remaining = len(batch_results) % buffer_size\n",
    "    if remaining > 0:\n",
    "        f.write(\"\\n\".join(batch_results[-remaining:]) + \"\\n\")"
   ],
   "metadata": {
    "colab": {
     "base_uri": "https://localhost:8080/"
    },
    "id": "afrRb9rcYrU3",
    "executionInfo": {
     "status": "ok",
     "timestamp": 1749523827330,
     "user_tz": -540,
     "elapsed": 4771788,
     "user": {
      "displayName": "DE25-T4 Project2",
      "userId": "12131723048208815686"
     }
    },
    "outputId": "2e5e382b-c817-41ff-f93b-3792295f11b4",
    "ExecuteTime": {
     "end_time": "2025-06-14T05:42:48.078022Z",
     "start_time": "2025-06-14T05:05:08.069709Z"
    }
   },
   "outputs": [
    {
     "name": "stderr",
     "output_type": "stream",
     "text": [
      "100%|██████████| 28286/28286 [37:38<00:00, 12.52it/s]  \n"
     ]
    }
   ],
   "execution_count": 14
  },
  {
   "cell_type": "code",
   "source": [
    "# [10] GCS 업로드\n",
    "csv_string = \"index,product_id,mood\\n\" + \"\\n\".join(batch_results)\n",
    "blob = bucket.blob(f\"{GCS_PATH_PREFIX}{GCS_FILE_NAME}\")\n",
    "blob.upload_from_string(csv_string, content_type=\"text/csv\")\n",
    "\n",
    "print(f\"✅ GCS 업로드 완료: {GCS_PATH_PREFIX}{GCS_FILE_NAME} ({len(batch_results)}개)\")\n",
    "print(\"🎉 전체 병렬 inference 및 저장 완료!\")"
   ],
   "metadata": {
    "id": "SOwOwJf_Yr5g",
    "executionInfo": {
     "status": "ok",
     "timestamp": 1749523831038,
     "user_tz": -540,
     "elapsed": 3663,
     "user": {
      "displayName": "DE25-T4 Project2",
      "userId": "12131723048208815686"
     }
    },
    "colab": {
     "base_uri": "https://localhost:8080/"
    },
    "outputId": "d3a00fd3-a599-4817-fe45-03b9a8a82493",
    "ExecuteTime": {
     "end_time": "2025-06-14T05:42:48.995713Z",
     "start_time": "2025-06-14T05:42:48.883940Z"
    }
   },
   "outputs": [
    {
     "name": "stdout",
     "output_type": "stream",
     "text": [
      "✅ GCS 업로드 완료: kyobo/csv/combined/inference_mood_batches/mood_classification.csv (28286개)\n",
      "🎉 전체 병렬 inference 및 저장 완료!\n"
     ]
    }
   ],
   "execution_count": 17
  }
 ]
}
